{
 "cells": [
  {
   "cell_type": "code",
   "execution_count": null,
   "id": "9298124b-b2c5-42f3-ae54-c4531307eaa7",
   "metadata": {},
   "outputs": [],
   "source": [
    "import pandas as pd\n",
    "import geopandas as gpd\n",
    "import os\n",
    "import pyarrow\n",
    "import matplotlib\n",
    "from matplotlib import pyplot as plt\n",
    "import seaborn as sns\n",
    "plt.style.use('fivethirtyeight')   "
   ]
  },
  {
   "cell_type": "code",
   "execution_count": null,
   "id": "82b37694-8591-4fab-ad50-ecb8337696a8",
   "metadata": {
    "tags": []
   },
   "outputs": [],
   "source": [
    "nonag_pur2020_ag_data = pd.read_parquet(\"/srv/data/my_shared_data_folder/cpr/pur2020_nonag.parquet\", engine=\"fastparquet\")"
   ]
  },
  {
   "cell_type": "code",
   "execution_count": null,
   "id": "570e3ca3-5725-4e03-9626-59e1f628b56f",
   "metadata": {
    "tags": []
   },
   "outputs": [],
   "source": [
    "#nonag_pur2020_ag_data = nonag_pur2020_ag_data.sample(frac = 0.001)\n",
    "list(nonag_pur2020_ag_data.columns)\n",
    "#nonag_pur2020_ag_data"
   ]
  },
  {
   "cell_type": "code",
   "execution_count": null,
   "id": "2cb5768a-45d0-4698-960c-430bd7e6d458",
   "metadata": {
    "tags": []
   },
   "outputs": [],
   "source": [
    "chem_code = nonag_pur2020_ag_data['chem_code'].unique()\n",
    "#list(chem_code)"
   ]
  },
  {
   "cell_type": "code",
   "execution_count": null,
   "id": "3a2b67b5-61c1-484d-b47f-adde67349824",
   "metadata": {
    "tags": []
   },
   "outputs": [],
   "source": [
    "nonag_pur2020_ag_data['prodno'].apply(str)\n",
    "non_ag_distinct_pesticides = nonag_pur2020_ag_data.prodno.unique()\n",
    "len(non_ag_distinct_pesticides)"
   ]
  },
  {
   "cell_type": "code",
   "execution_count": null,
   "id": "efaf00b2-f067-4cf2-be0b-780c1e65e3df",
   "metadata": {
    "tags": []
   },
   "outputs": [],
   "source": [
    "pest_type = nonag_pur2020_ag_data.groupby(\"prodno\")[\"lbs_prd_used\"].sum()\n",
    "pest_type = pest_type.reset_index().rename(columns={'lbs_prd_used':'total_amt_used_(lbs)'})\n",
    "pest_type"
   ]
  },
  {
   "cell_type": "code",
   "execution_count": null,
   "id": "cdb8c7b2-86cf-412c-bc14-784edc06cac2",
   "metadata": {
    "tags": []
   },
   "outputs": [],
   "source": [
    "pest_use_county = nonag_pur2020_ag_data.groupby(\"county_name\")[\"prodno\"].count()\n",
    "pest_use_county = pest_use_county.reset_index()\n",
    "pest_use_county\n",
    "\n",
    "plt.figure(figsize=(7,11)) \n",
    "plt.barh(y = pest_use_county['county_name'], width= pest_use_county['prodno'])\n",
    "plt.xticks(rotation=270)                           # Rotate x-labels by 270 degrees\n",
    "plt.xlabel('Number of Pesticides')                      # x-label added\n",
    "plt.ylabel('County Name')          # y-label added\n",
    "plt.title('Number of Pesticides Used by County')  # title added\n",
    "plt.show()"
   ]
  },
  {
   "cell_type": "code",
   "execution_count": null,
   "id": "33e4dc71-a01f-4a56-9650-01c1bc34e7fe",
   "metadata": {
    "tags": []
   },
   "outputs": [],
   "source": [
    "pest_amt_county = nonag_pur2020_ag_data.groupby(\"county_name\")[\"lbs_prd_used\"].sum()\n",
    "pest_amt_county = pest_amt_county.reset_index()\n",
    "pest_amt_county\n",
    "\n",
    "plt.figure(figsize=(7,11)) \n",
    "plt.barh(y = pest_amt_county['county_name'], width= pest_amt_county['lbs_prd_used'])\n",
    "plt.xticks(rotation=270)                           # Rotate x-labels by 270 degrees\n",
    "plt.xlabel('Amount of Pesticide (lbs)')                      # x-label added\n",
    "plt.ylabel('County Name')          # y-label added\n",
    "plt.title('Amount of Pesticide Used by County')  # title added\n",
    "plt.show()"
   ]
  },
  {
   "cell_type": "code",
   "execution_count": null,
   "id": "9318d390-3be3-466b-8950-17eb7d627653",
   "metadata": {
    "tags": []
   },
   "outputs": [],
   "source": [
    "acre_treated_county = nonag_pur2020_ag_data.groupby(\"county_name\")[\"acre_treated\"].sum()\n",
    "acre_treated_county = acre_treated_county.reset_index()\n",
    "acre_treated_county\n",
    "\n",
    "plt.figure(figsize=(7,11)) \n",
    "plt.barh(y = acre_treated_county['county_name'], width= acre_treated_county['acre_treated'])\n",
    "plt.xticks(rotation=270)                           # Rotate x-labels by 270 degrees\n",
    "plt.xlabel('Total Acres Treated')                      # x-label added\n",
    "plt.ylabel('County Name')          # y-label added\n",
    "plt.title('Total Acres Treated by County')  # title added\n",
    "plt.show()"
   ]
  },
  {
   "cell_type": "code",
   "execution_count": null,
   "id": "ba12b216-f107-468c-9429-d6d27274a879",
   "metadata": {},
   "outputs": [],
   "source": []
  }
 ],
 "metadata": {
  "kernelspec": {
   "display_name": "Python 3 (ipykernel)",
   "language": "python",
   "name": "python3"
  },
  "language_info": {
   "codemirror_mode": {
    "name": "ipython",
    "version": 3
   },
   "file_extension": ".py",
   "mimetype": "text/x-python",
   "name": "python",
   "nbconvert_exporter": "python",
   "pygments_lexer": "ipython3",
   "version": "3.9.7"
  }
 },
 "nbformat": 4,
 "nbformat_minor": 5
}
