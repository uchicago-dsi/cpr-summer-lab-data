{
 "cells": [
  {
   "cell_type": "code",
   "execution_count": null,
   "id": "c90fbba3-e83a-4147-a81f-d39ad0ff257a",
   "metadata": {
    "tags": []
   },
   "outputs": [],
   "source": [
    "import pandas as pd\n",
    "import numpy as np\n",
    "import plotly\n",
    "import geopandas as gpd\n",
    "import json\n",
    "import matplotlib\n",
    "from matplotlib import pyplot as plt\n",
    "import seaborn as sns\n",
    "import numpy as np\n",
    "import plotly.express as px\n",
    "\n",
    "plt.style.use('fivethirtyeight')   \n",
    "path = \"/srv/data/my_shared_data_folder/cpr/\"\n",
    "pd.set_option('display.max_columns', None)\n",
    "pd.set_option('display.max_rows', None)"
   ]
  },
  {
   "cell_type": "code",
   "execution_count": null,
   "id": "b3838cb1-63e0-4bb3-918b-0b71cdbc7c89",
   "metadata": {
    "tags": []
   },
   "outputs": [],
   "source": [
    "df1 = pd.read_csv('pesticide-mapping-tool-chemical-categories (1).csv')\n",
    "df1"
   ]
  },
  {
   "cell_type": "code",
   "execution_count": null,
   "id": "b1529271-0f40-4b37-b2f4-20f9894c6e57",
   "metadata": {
    "tags": []
   },
   "outputs": [],
   "source": [
    "df2 = pd.read_csv(\"PUR_2018_AG.txt\",sep='\\t')\n",
    "df2"
   ]
  },
  {
   "cell_type": "code",
   "execution_count": null,
   "id": "c0c27171-84c7-4d6d-bb0b-c01ccd592961",
   "metadata": {},
   "outputs": [],
   "source": [
    "data_canada = px.data.gapminder().query(\"country == 'Canada'\")\n",
    "fig = px.bar(data_canada, x='year', y='pop')\n",
    "fig.show()"
   ]
  },
  {
   "cell_type": "code",
   "execution_count": null,
   "id": "3c311c94-57f5-492d-8466-f9829b36461c",
   "metadata": {
    "tags": []
   },
   "outputs": [],
   "source": [
    "pesticide_name = df2['PRODUCT_NAME'].unique()\n",
    "len(pesticide_name)"
   ]
  },
  {
   "cell_type": "code",
   "execution_count": null,
   "id": "06b267e3-e423-47ca-9541-b9cab6e5b1d1",
   "metadata": {
    "tags": []
   },
   "outputs": [],
   "source": [
    "#pur2020_geo = gpd.read_file('pur2020_geometry.geojson')\n",
    "#pur2020_geo = pur2020_geo.loc[(pur2020_geo['county_name'] == 'Fresno')| \n",
    "                              #(pur2020_geo['county_name'] == 'Kern')|\n",
    "                              #(pur2020_geo['county_name'] == 'Monterey')|\n",
    "                              #(pur2020_geo['county_name'] == 'Los Angeles')|\n",
    "                              #(pur2020_geo['county_name'] == 'Mendocino')]\n",
    "#pur2020_geo.to_file(\"pur2020_geometry_5c.geojson\", driver=\"GeoJSON\")\n"
   ]
  },
  {
   "cell_type": "code",
   "execution_count": null,
   "id": "dc5b2ef5-f42f-4af4-ae95-04b6d0cd0da2",
   "metadata": {
    "tags": []
   },
   "outputs": [],
   "source": [
    "#df = gpd.read_file('pur2020_geometry_5c.geojson')\n",
    "#df "
   ]
  },
  {
   "cell_type": "code",
   "execution_count": null,
   "id": "6d2bdada-acfa-4143-8852-0c1f9a12c885",
   "metadata": {
    "tags": []
   },
   "outputs": [],
   "source": [
    "#cali_counties = gpd.read_file(path + \"california_counties.gpkg\")\n",
    "#cali_counties['county'] = cali_counties['NAMELSAD'].str.split(' ', expand=True)[0]\n",
    "#cali_county_cleaned = pd.read_csv(path + \"cleaned_county_data.csv\")\n",
    "#cali_county_cleaned['county'] = cali_county_cleaned['area_name'].str.split(' ', expand=True)[0]\n",
    "#cali_counties_merged =  pd.merge(cali_counties, cali_county_cleaned, on='county')"
   ]
  },
  {
   "cell_type": "code",
   "execution_count": null,
   "id": "44cd11e5-f0b6-4ee5-8ad1-4d84df878ae4",
   "metadata": {},
   "outputs": [],
   "source": [
    "# Create a map\n",
    "#ax = cali_counties_merged.plot(figsize=(8,8), color='whitesmoke', linestyle=':', edgecolor='black')\n",
    "#facilities.to_crs(epsg=3857).plot(markersize=1, ax=ax)"
   ]
  }
 ],
 "metadata": {
  "kernelspec": {
   "display_name": "Python 3 (ipykernel)",
   "language": "python",
   "name": "python3"
  },
  "language_info": {
   "codemirror_mode": {
    "name": "ipython",
    "version": 3
   },
   "file_extension": ".py",
   "mimetype": "text/x-python",
   "name": "python",
   "nbconvert_exporter": "python",
   "pygments_lexer": "ipython3",
   "version": "3.9.7"
  }
 },
 "nbformat": 4,
 "nbformat_minor": 5
}
