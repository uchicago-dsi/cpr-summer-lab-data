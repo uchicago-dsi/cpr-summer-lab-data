{
 "cells": [
  {
   "cell_type": "code",
   "execution_count": null,
   "metadata": {
    "id": "ZzPNzFd852BO"
   },
   "outputs": [],
   "source": [
    "import pandas as pd\n",
    "import numpy as np\n",
    "import plotly\n",
    "import geopandas as gpd\n",
    "import json\n",
    "import matplotlib\n",
    "from matplotlib import pyplot as plt\n",
    "import seaborn as sns\n",
    "import numpy as np\n",
    "import plotly.express as px\n",
    "import fiona\n",
    "#plt.style.use('fivethirtyeight')\n",
    "#path = \"/srv/data/my_shared_data_folder/cpr/\"\n",
    "pd.set_option('display.max_columns', None)\n",
    "pd.set_option('display.max_rows', 100)"
   ]
  },
  {
   "cell_type": "code",
   "execution_count": null,
   "metadata": {
    "colab": {
     "base_uri": "https://localhost:8080/"
    },
    "id": "I6TZMrZe1-UK",
    "outputId": "ade29635-e44c-4fea-f270-265b52fc1335"
   },
   "outputs": [],
   "source": [
    "carcinogen_group = pd.read_csv('pur_data_2020/pur2020both_withtypes_carcinogen.csv')\n",
    "#carcinogen_group"
   ]
  },
  {
   "cell_type": "code",
   "execution_count": null,
   "metadata": {
    "id": "J4oY9oacwkmL"
   },
   "outputs": [],
   "source": [
    "toxic_air_group = pd.read_csv('pur_data_2020/pur2020both_withtypes_toxic_air.csv')"
   ]
  },
  {
   "cell_type": "code",
   "execution_count": null,
   "metadata": {
    "id": "Uu7BcQ8vvkAp"
   },
   "outputs": [],
   "source": [
    "with open('cpr-summer-lab-data/pur_data_2020/Public_Land_Survey_System_(PLSS)%3A_Township_and_Range.geojson') as response:\n",
    "  pub_land = json.load(response)\n",
    "#pub_land"
   ]
  },
  {
   "cell_type": "code",
   "execution_count": null,
   "metadata": {
    "id": "xnHOO8pd936o"
   },
   "outputs": [],
   "source": [
    "#publand_json = pub_land.to_json()"
   ]
  },
  {
   "cell_type": "code",
   "execution_count": null,
   "metadata": {
    "id": "0rT0-cEH2upR"
   },
   "outputs": [],
   "source": [
    "import plotly.express as px\n",
    "\n",
    "fig1 = px.choropleth_mapbox(carcinogen_group, geojson=pub_land,featureidkey='properties.Township',locations='Township', color='POUNDS_CHEMICAL_APPLIED',\n",
    "                           color_continuous_scale=\"Viridis\",\n",
    "                           range_color=(0, 12),\n",
    "                           mapbox_style=\"carto-positron\",\n",
    "                           zoom=3, center = {\"lat\": 37.0902, \"lon\": -95.7129},\n",
    "                           opacity=0.5,\n",
    "                           #labels={'chem_type':'chemical type'}\n",
    "                          )\n",
    "fig1.update_layout(margin={\"r\":0,\"t\":0,\"l\":0,\"b\":0})\n",
    "fig1.show()"
   ]
  },
  {
   "cell_type": "code",
   "execution_count": null,
   "metadata": {
    "colab": {
     "base_uri": "https://localhost:8080/",
     "height": 542
    },
    "id": "U1qPLPD0w0ha",
    "outputId": "9a713a60-15d6-4ac8-f201-8b8f63b29214"
   },
   "outputs": [],
   "source": [
    "import plotly.express as px\n",
    "#,featureidkey='properties.Township'\n",
    "\n",
    "fig2 = px.choropleth_mapbox(toxic_air_group, geojson=pub_land,featureidkey='properties.Township',locations='Township', color='POUNDS_CHEMICAL_APPLIED',\n",
    "                           color_continuous_scale=\"Viridis\",\n",
    "                           range_color=(0, 12),\n",
    "                           mapbox_style=\"carto-positron\",\n",
    "                           zoom=3, center = {\"lat\": 37.0902, \"lon\": -95.7129},\n",
    "                           opacity=0.5,\n",
    "                           #labels={'chem_type':'chemical type'}\n",
    "                          )\n",
    "#fig2.update_layout(margin={\"r\":0,\"t\":0,\"l\":0,\"b\":0})\n",
    "fig2.show()"
   ]
  }
 ],
 "metadata": {
  "colab": {
   "provenance": []
  },
  "kernelspec": {
   "display_name": "Python 3 (ipykernel)",
   "language": "python",
   "name": "python3"
  },
  "language_info": {
   "codemirror_mode": {
    "name": "ipython",
    "version": 3
   },
   "file_extension": ".py",
   "mimetype": "text/x-python",
   "name": "python",
   "nbconvert_exporter": "python",
   "pygments_lexer": "ipython3",
   "version": "3.9.7"
  }
 },
 "nbformat": 4,
 "nbformat_minor": 4
}
